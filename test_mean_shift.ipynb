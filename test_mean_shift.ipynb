{
 "cells": [
  {
   "cell_type": "code",
   "execution_count": null,
   "metadata": {},
   "outputs": [],
   "source": [
    "import numpy as np\n",
    "import matplotlib.pyplot as plt\n",
    "from src.ex2_utils import get_patch, generate_responses_1\n",
    "from src.ex1_utils import gausssmooth\n",
    "from src.mean_shift import mean_shift, visualize_mean_shift"
   ]
  },
  {
   "cell_type": "code",
   "execution_count": null,
   "metadata": {},
   "outputs": [],
   "source": [
    "density = generate_responses_1()"
   ]
  },
  {
   "cell_type": "code",
   "execution_count": null,
   "metadata": {},
   "outputs": [],
   "source": [
    "fig, ((ax1_11, ax1_12), (ax1_21, ax1_22)) = plt.subplots(2, 2)\n",
    "\n",
    "pos, iter, positions = mean_shift(density, (5, 5), (75, 85), 0.01)\n",
    "visualize_mean_shift(density, ax1_11, positions)\n",
    "print(iter)\n",
    "\n",
    "pos, iter, positions = mean_shift(density, (5, 5), (75, 85), 0.1)\n",
    "visualize_mean_shift(density, ax1_12, positions)\n",
    "print(iter)\n",
    "\n",
    "pos, iter, positions = mean_shift(density, (5, 5), (35, 25), 0.01)\n",
    "visualize_mean_shift(density, ax1_21, positions)\n",
    "print(iter)\n",
    "\n",
    "pos, iter, positions = mean_shift(density, (15, 15), (35, 25), 0.01)\n",
    "visualize_mean_shift(density, ax1_22, positions)\n",
    "print(iter)\n",
    "\n",
    "plt.show()"
   ]
  },
  {
   "cell_type": "code",
   "execution_count": null,
   "metadata": {},
   "outputs": [],
   "source": [
    "density1 = np.zeros((100, 100), dtype=np.float32)\n",
    "for i in range(10, 90, 10):\n",
    "    for j in range(10, 90, 10):\n",
    "        density1[i, j] = 0.5\n",
    "\n",
    "density1[50, 50] = 2\n",
    "\n",
    "density1 = gausssmooth(density1, 4)"
   ]
  },
  {
   "cell_type": "code",
   "execution_count": null,
   "metadata": {},
   "outputs": [],
   "source": [
    "density2 = np.zeros((100, 100), dtype=np.float32)\n",
    "\n",
    "density2[30, 30] = 100\n",
    "density2[30, 70] = 100\n",
    "density2[70, 30] = 100\n",
    "density2[70, 70] = 100\n",
    "\n",
    "density2 = gausssmooth(density2, 10)\n",
    "\n",
    "density2[50, 50] = 1"
   ]
  },
  {
   "cell_type": "code",
   "execution_count": null,
   "metadata": {},
   "outputs": [],
   "source": [
    "\n",
    "fig, ((ax1_11, ax1_12)) = plt.subplots(1, 2)\n",
    "\n",
    "pos, iter, positions = mean_shift(density1, (15, 15), (65, 45), 0.01)\n",
    "visualize_mean_shift(density1, ax1_11, positions)\n",
    "print(iter)\n",
    "\n",
    "pos, iter, positions = mean_shift(density2, (15, 15), (65, 45), 0.01)\n",
    "visualize_mean_shift(density2, ax1_12, positions)\n",
    "print(iter)\n",
    "\n",
    "plt.show()"
   ]
  },
  {
   "cell_type": "code",
   "execution_count": null,
   "metadata": {},
   "outputs": [],
   "source": [
    "density2[30, 70]"
   ]
  },
  {
   "cell_type": "code",
   "execution_count": null,
   "metadata": {},
   "outputs": [],
   "source": [
    "\n",
    "pos, iter, positions = mean_shift(density, (5, 5), (80, 99), 0.01)\n",
    "print(positions)\n",
    "\n",
    "visualize_mean_shift(density, positions)"
   ]
  },
  {
   "cell_type": "code",
   "execution_count": null,
   "metadata": {},
   "outputs": [],
   "source": [
    "\n",
    "pos, iter, positions = mean_shift(density, (5, 5), (70, 40), 0.01)\n",
    "print(positions)\n",
    "\n",
    "visualize_mean_shift(density, positions)"
   ]
  },
  {
   "cell_type": "code",
   "execution_count": null,
   "metadata": {},
   "outputs": [],
   "source": []
  }
 ],
 "metadata": {
  "kernelspec": {
   "display_name": "vision",
   "language": "python",
   "name": "python3"
  },
  "language_info": {
   "codemirror_mode": {
    "name": "ipython",
    "version": 3
   },
   "file_extension": ".py",
   "mimetype": "text/x-python",
   "name": "python",
   "nbconvert_exporter": "python",
   "pygments_lexer": "ipython3",
   "version": "3.10.7"
  },
  "orig_nbformat": 4
 },
 "nbformat": 4,
 "nbformat_minor": 2
}
